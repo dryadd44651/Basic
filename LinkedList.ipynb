{
 "cells": [
  {
   "cell_type": "markdown",
   "metadata": {},
   "source": [
    "# Linked List\n",
    "\n",
    "![img](https://media.geeksforgeeks.org/wp-content/cdn-uploads/gq/2013/03/Linkedlist.png)\n",
    "\n",
    "In simple words, a linked list consists of nodes where each node contains a data field and a reference(link) to the next node in the list.\n",
    "\n",
    "```\n",
    "# Node class\n",
    "class Node:\n",
    "  \n",
    "    # Function to initialize the node object\n",
    "    def __init__(self, data):\n",
    "        self.data = data  # Assign data\n",
    "        self.next = None  # Initialize next as null\n",
    "  \n",
    "# Linked List class\n",
    "class LinkedList:\n",
    "    \n",
    "    # Function to initialize the Linked List object\n",
    "    def __init__(self): \n",
    "        self.head = None\n",
    "```\n",
    "\n",
    "\n",
    "\n",
    "\n",
    "## array vs linked list\n",
    "\n",
    "Array: random access, fixed size\n",
    "\n",
    "Arrays store elements in contiguous memory locations\n",
    "\n",
    "linked list: traverse the node for acccess, dynamic link\n",
    "\n",
    "Linked lists are less rigid in their storage structure and elements are usually not stored in contiguous locations\n",
    "\n",
    "Linked lists offer some important advantages over other linear data structures. Unlike arrays, they are a dynamic data structure, resizable at run-time. Also, the insertion and deletion operations are efficient and easily implemented.\n",
    "\n",
    "\n",
    "Implementation: stacks, queues, graphs\n",
    "\n",
    "Example: Image viewer, Music Player \n",
    "\n",
    "\n",
    "### Time Complexity\n",
    "\n",
    "SINGLY LINKED LIST OPERATION\t  COMPLEXITY\n",
    "\n",
    "Access i-th element\t            O(N)\n",
    "\n",
    "Traverse all elements\t            O(N)\n",
    "\n",
    "Insert element E at current point O(1)\n",
    "\n",
    "Delete current element\t        O(1)\n",
    "\n",
    "Insert element E at front\t        O(1)\n",
    "\n",
    "Insert element E at end\t        O(N)\n",
    "\n",
    "\n",
    "Linked List is fundamental of tree and graphic\n",
    "\n",
    "\n",
    "### Other linked list\n",
    "\n",
    "Doubly Linked List (each node stores the address of previous node as well)\n",
    "   Tip: add a tail in end of doubly linked list for O(1) to access tail\n",
    "Circular Linked List (last node points to the first node)\n",
    "\n",
    "\n",
    "https://www.geeksforgeeks.org/applications-of-linked-list-data-structure/"
   ]
  },
  {
   "cell_type": "code",
   "execution_count": 110,
   "metadata": {},
   "outputs": [],
   "source": [
    "# Node class\n",
    "class Node:\n",
    "  \n",
    "    # Function to initialize the node object\n",
    "    def __init__(self, data):\n",
    "        self.data = data  # Assign data\n",
    "        self.next = None  # Initialize next as null\n",
    "  \n",
    "# Linked List class\n",
    "class LinkedList():\n",
    "    \n",
    "    # Function to initialize the Linked List object\n",
    "    def __init__(self): \n",
    "        self.head = None"
   ]
  },
  {
   "cell_type": "markdown",
   "metadata": {},
   "source": [
    "![push](https://media.geeksforgeeks.org/wp-content/cdn-uploads/gq/2013/03/Linkedlist_insert_at_start.png)"
   ]
  },
  {
   "cell_type": "code",
   "execution_count": 111,
   "metadata": {},
   "outputs": [],
   "source": [
    "class LinkedList(LinkedList):\n",
    "    def push(self, new_data):\n",
    "    \n",
    "        # 1 & 2: Allocate the Node &\n",
    "        #        Put in the data\n",
    "        new_node = Node(new_data)\n",
    "            \n",
    "        # 3. Make next of new Node as head\n",
    "        new_node.next = self.head\n",
    "            \n",
    "        # 4. Move the head to point to new Node \n",
    "        self.head = new_node"
   ]
  },
  {
   "cell_type": "markdown",
   "metadata": {},
   "source": [
    "![insert](https://media.geeksforgeeks.org/wp-content/cdn-uploads/gq/2013/03/Linkedlist_insert_middle.png)"
   ]
  },
  {
   "cell_type": "code",
   "execution_count": 112,
   "metadata": {},
   "outputs": [],
   "source": [
    "class LinkedList(LinkedList):\n",
    "    def insertAfter(self, prev_node, new_data):\n",
    "    \n",
    "        # 1. check if the given prev_node exists\n",
    "        if prev_node is None:\n",
    "            print(\"The given previous node must inLinkedList.\")\n",
    "            return\n",
    "    \n",
    "        # 2. Create new node &\n",
    "        # 3. Put in the data\n",
    "        new_node = Node(new_data)\n",
    "    \n",
    "        # 4. Make next of new Node as next of prev_node\n",
    "        new_node.next = prev_node.next\n",
    "    \n",
    "        # 5. make next of prev_node as new_node\n",
    "        prev_node.next = new_node"
   ]
  },
  {
   "cell_type": "markdown",
   "metadata": {},
   "source": [
    "![img](https://media.geeksforgeeks.org/wp-content/cdn-uploads/gq/2013/03/Linkedlist_insert_last.png)"
   ]
  },
  {
   "cell_type": "code",
   "execution_count": 113,
   "metadata": {},
   "outputs": [],
   "source": [
    "class LinkedList(LinkedList):\n",
    "    def append(self, new_data):\n",
    "    \n",
    "            # 1. Create a new node\n",
    "            # 2. Put in the data\n",
    "            # 3. Set next as None\n",
    "            new_node = Node(new_data)\n",
    "    \n",
    "            # 4. If the Linked List is empty, then make the\n",
    "            #    new node as head\n",
    "            if self.head is None:\n",
    "                self.head = new_node\n",
    "                return\n",
    "    \n",
    "            # 5. Else traverse till the last node\n",
    "            last = self.head\n",
    "            while (last.next):\n",
    "                last = last.next\n",
    "    \n",
    "            # 6. Change the next of last node\n",
    "            last.next = new_node"
   ]
  },
  {
   "cell_type": "code",
   "execution_count": 114,
   "metadata": {},
   "outputs": [],
   "source": [
    "class LinkedList(LinkedList):\n",
    "    def printList(self):\n",
    "        temp = self.head\n",
    "        while (temp):\n",
    "            print(temp.data,end=\" \")\n",
    "            temp = temp.next\n",
    "        print()"
   ]
  },
  {
   "cell_type": "markdown",
   "metadata": {},
   "source": [
    "![delete](https://media.geeksforgeeks.org/wp-content/uploads/20210211175616/Untitleddesign.png)"
   ]
  },
  {
   "cell_type": "code",
   "execution_count": 115,
   "metadata": {},
   "outputs": [],
   "source": [
    "class LinkedList(LinkedList):\n",
    "    def deleteNode(self, val):\n",
    "        if self.head.data == val:\n",
    "            curr = self.head\n",
    "            self.head = self.head.next\n",
    "            curr = None\n",
    "            return\n",
    "        \n",
    "        temp = self.head.next\n",
    "\n",
    "        while (temp.next.data != val):\n",
    "            temp = temp.next\n",
    "        \n",
    "        next = temp.next\n",
    "        temp.next = next.next\n",
    "        next  = None"
   ]
  },
  {
   "cell_type": "code",
   "execution_count": 116,
   "metadata": {},
   "outputs": [
    {
     "name": "stdout",
     "output_type": "stream",
     "text": [
      "Created linked list is: \n",
      "1 7 8 6 4 \n",
      "Deleted linked list is: \n",
      "1 7 6 4 \n",
      "Deleted linked list is: \n",
      "7 6 4 \n"
     ]
    }
   ],
   "source": [
    "# Code execution starts here\n",
    "if __name__=='__main__':\n",
    "  \n",
    "    # Start with the empty list\n",
    "    llist = LinkedList()\n",
    "  \n",
    "    # Insert 6.  So linked list becomes 6->None\n",
    "    llist.append(6)\n",
    "  \n",
    "    # Insert 7 at the beginning. So linked list becomes 7->6->None\n",
    "    llist.push(7);\n",
    "  \n",
    "    # Insert 1 at the beginning. So linked list becomes 1->7->6->None\n",
    "    llist.push(1);\n",
    "  \n",
    "    # Insert 4 at the end. So linked list becomes 1->7->6->4->None\n",
    "    llist.append(4)\n",
    "  \n",
    "    # Insert 8, after 7. So linked list becomes 1 -> 7-> 8-> 6-> 4-> None\n",
    "    llist.insertAfter(llist.head.next, 8)\n",
    "  \n",
    "    print('Created linked list is: ')\n",
    "    llist.printList()\n",
    "    llist.deleteNode(8)\n",
    "    print('Deleted linked list is: ')\n",
    "    llist.printList()\n",
    "    llist.deleteNode(1)\n",
    "    print('Deleted linked list is: ')\n",
    "    llist.printList()\n"
   ]
  },
  {
   "cell_type": "markdown",
   "metadata": {},
   "source": [
    "![doubly linked list](https://media.geeksforgeeks.org/wp-content/cdn-uploads/gq/2014/03/DLL1.png)"
   ]
  },
  {
   "cell_type": "code",
   "execution_count": 117,
   "metadata": {},
   "outputs": [
    {
     "name": "stdout",
     "output_type": "stream",
     "text": [
      "Element is:  10\n",
      "Element is:  20\n",
      "Element is:  30\n",
      "Element is:  40\n",
      "Element is:  50\n",
      "Element is:  60\n",
      "\n",
      "\n",
      "Element is:  30\n",
      "Element is:  40\n",
      "Element is:  50\n",
      "Element is:  60\n",
      "\n",
      "\n"
     ]
    }
   ],
   "source": [
    "# Initialise the Node\n",
    "class Node:\n",
    "    def __init__(self, data):\n",
    "        self.item = data\n",
    "        self.next = None\n",
    "        self.prev = None\n",
    "# Class for doubly Linked List\n",
    "class doublyLinkedList:\n",
    "    def __init__(self):\n",
    "        self.start_node = None\n",
    "    # Insert Element to Empty list\n",
    "    def InsertToEmptyList(self, data):\n",
    "        if self.start_node is None:\n",
    "            new_node = Node(data)\n",
    "            self.start_node = new_node\n",
    "        else:\n",
    "            print(\"The list is empty\")\n",
    "    # Insert element at the end\n",
    "    def InsertToEnd(self, data):\n",
    "        # Check if the list is empty\n",
    "        if self.start_node is None:\n",
    "            new_node = Node(data)\n",
    "            self.start_node = new_node\n",
    "            return\n",
    "        n = self.start_node\n",
    "        # Iterate till the next reaches NULL\n",
    "        while n.next is not None:\n",
    "            n = n.next\n",
    "        new_node = Node(data)\n",
    "        n.next = new_node\n",
    "        new_node.prev = n\n",
    "    # Delete the elements from the start\n",
    "    def DeleteAtStart(self):\n",
    "        if self.start_node is None:\n",
    "            print(\"The Linked list is empty, no element to delete\")\n",
    "            return \n",
    "        if self.start_node.next is None:\n",
    "            self.start_node = None\n",
    "            return\n",
    "        self.start_node = self.start_node.next\n",
    "        self.start_prev = None;\n",
    "    # Delete the elements from the end\n",
    "    def delete_at_end(self):\n",
    "        # Check if the List is empty\n",
    "        if self.start_node is None:\n",
    "            print(\"The Linked list is empty, no element to delete\")\n",
    "            return \n",
    "        if self.start_node.next is None:\n",
    "            self.start_node = None\n",
    "            return\n",
    "        n = self.start_node\n",
    "        while n.next is not None:\n",
    "            n = n.next\n",
    "        n.prev.next = None\n",
    "    # Traversing and Displaying each element of the list\n",
    "    def Display(self):\n",
    "        if self.start_node is None:\n",
    "            print(\"The list is empty\")\n",
    "            return\n",
    "        else:\n",
    "            n = self.start_node\n",
    "            while n is not None:\n",
    "                print(\"Element is: \", n.item)\n",
    "                n = n.next\n",
    "        print(\"\\n\")\n",
    "# Create a new Doubly Linked List\n",
    "NewDoublyLinkedList = doublyLinkedList()\n",
    "# Insert the element to empty list\n",
    "NewDoublyLinkedList.InsertToEmptyList(10)\n",
    "# Insert the element at the end\n",
    "NewDoublyLinkedList.InsertToEnd(20)\n",
    "NewDoublyLinkedList.InsertToEnd(30)\n",
    "NewDoublyLinkedList.InsertToEnd(40)\n",
    "NewDoublyLinkedList.InsertToEnd(50)\n",
    "NewDoublyLinkedList.InsertToEnd(60)\n",
    "# Display Data\n",
    "NewDoublyLinkedList.Display()\n",
    "# Delete elements from start\n",
    "NewDoublyLinkedList.DeleteAtStart()\n",
    "# Delete elements from end\n",
    "NewDoublyLinkedList.DeleteAtStart()\n",
    "# Display Data\n",
    "NewDoublyLinkedList.Display()"
   ]
  },
  {
   "cell_type": "markdown",
   "metadata": {},
   "source": [
    "\n",
    "![doubly add front](https://media.geeksforgeeks.org/wp-content/cdn-uploads/gq/2014/03/DLL_add_front1.png)\n",
    "![doubly insert](https://media.geeksforgeeks.org/wp-content/cdn-uploads/gq/2014/03/DLL_add_middle1.png)\n",
    "![doubly add end](https://media.geeksforgeeks.org/wp-content/cdn-uploads/gq/2014/03/DLL_add_end1.png)"
   ]
  },
  {
   "cell_type": "markdown",
   "metadata": {},
   "source": [
    "![del doubly linked list](https://media.geeksforgeeks.org/wp-content/uploads/20200318150826/ezgif.com-gif-maker1.gif)"
   ]
  }
 ],
 "metadata": {
  "kernelspec": {
   "display_name": "Python 3.10.4 64-bit",
   "language": "python",
   "name": "python3"
  },
  "language_info": {
   "codemirror_mode": {
    "name": "ipython",
    "version": 3
   },
   "file_extension": ".py",
   "mimetype": "text/x-python",
   "name": "python",
   "nbconvert_exporter": "python",
   "pygments_lexer": "ipython3",
   "version": "3.10.4"
  },
  "orig_nbformat": 4,
  "vscode": {
   "interpreter": {
    "hash": "4f946df053fbf2b937619d3c5458e7af74262f9a954d8797ba0b27400bcafe06"
   }
  }
 },
 "nbformat": 4,
 "nbformat_minor": 2
}
